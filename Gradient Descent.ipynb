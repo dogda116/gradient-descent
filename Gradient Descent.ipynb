{
 "cells": [
  {
   "cell_type": "code",
   "execution_count": 1,
   "metadata": {},
   "outputs": [],
   "source": [
    "from math import sqrt, sin, cos"
   ]
  },
  {
   "cell_type": "markdown",
   "metadata": {},
   "source": [
    "## Gradient Descent Algorithm for local minimum searching\n",
    "### • Initialize $x^{(0)}$ arbitrarily\n",
    "### • Iterate $x^{(j+1)} = x^{(j)} - \\lambda \\cdot \\text{grad} \\space f(x^{(j)})$ (i.e move in direction of the greatest decrease of function $f$, where $\\lambda$ is the size of step) , until terminal condition is not met\n",
    "### • Terminal condition: $ || \\text{grad} \\space f(x^{(j+1)}) || < \\varepsilon $"
   ]
  },
  {
   "cell_type": "markdown",
   "metadata": {},
   "source": [
    "# Task 1\n",
    "### Find the local minimum of function $f(x,y) = 3x^4+y^4+x^2y^2-2y^3+xy^2-x^2+3y$.  \n",
    "### Its gradient: $\\text{grad} \\space f = \\left(\\frac{\\partial f}{\\partial x}, \\frac{\\partial f}{\\partial y}   \\right) = \\left( 12x^3+2y^2x+y^2-2x, \\quad 4y^3+2x^2y-6y^2+2xy+3\\right)$"
   ]
  },
  {
   "cell_type": "code",
   "execution_count": 2,
   "metadata": {},
   "outputs": [],
   "source": [
    "# df/dx(x, y)\n",
    "def ddx(x, y):\n",
    "    return 12 * x ** 3 + 2 * y * y * x + y * y - 2 * x\n",
    "\n",
    "# df/dy(x, y)\n",
    "def ddy(x, y):\n",
    "    return 4 * y ** 3 + 2 * x * x * y - 6 * y * y + 2 * x * y + 3\n",
    "\n",
    "# grad f(x, y)\n",
    "def gradf(x, y):\n",
    "    return ddx(x, y), ddy(x, y)\n",
    "\n",
    "# length of grad f(x, y)\n",
    "def gradlen(x, y):\n",
    "    a, b = gradf(x, y)\n",
    "    return sqrt(a ** 2 + b ** 2)\n",
    "\n",
    "def search(x_0, y_0, l, eps):\n",
    "    x, y = x_0, y_0\n",
    "    while (gradlen(x, y) >= eps):\n",
    "        a, b = gradf(x, y)\n",
    "        x, y = x - l * a, y - l * b\n",
    "    return x, y\n",
    "\n",
    "def min_search(x_0, y_0, l, eps):\n",
    "    try:\n",
    "        min_x, min_y = search(x_0, y_0, l, eps)\n",
    "        min_x, min_y = float(\"{:.5f}\".format(min_x)), float(\"{:.5f}\".format(min_y)),\n",
    "        print(\"Minimum point: (\", min_x, \", \", min_y, \")\", sep=\"\")\n",
    "        return min_x, min_y\n",
    "    except OverflowError:\n",
    "        print(\"Doesn't converge with these parameters: lambda = \", l, \" and (\", x_0, \", \", y_0, \")\", sep=\"\")"
   ]
  },
  {
   "cell_type": "markdown",
   "metadata": {},
   "source": [
    "#### Few experiments with different parameters:"
   ]
  },
  {
   "cell_type": "code",
   "execution_count": 3,
   "metadata": {},
   "outputs": [
    {
     "name": "stdout",
     "output_type": "stream",
     "text": [
      "Doesn't converge with these parameters: lambda = 1 and (1, 1)\n",
      "Minimum point: (-0.42241, -0.62369)\n",
      "Doesn't converge with these parameters: lambda = 0.5 and (-2, -2)\n",
      "Minimum point: (-0.4225, -0.62376)\n",
      "Minimum point: (-0.42255, -0.62376)\n"
     ]
    },
    {
     "data": {
      "text/plain": [
       "(-0.42255, -0.62376)"
      ]
     },
     "execution_count": 3,
     "metadata": {},
     "output_type": "execute_result"
    }
   ],
   "source": [
    "eps = 0.001\n",
    "# \\lambda = 1, (x_0, y_0) = (1, 1)\n",
    "l = 1\n",
    "x_0, y_0 = (1, 1)\n",
    "min_search(x_0, y_0, l, eps)\n",
    "\n",
    "# \\lambda = 0.1, (x_0, y_0) = (1, 1)\n",
    "l = 0.1\n",
    "x_0, y_0 = (1, 1)\n",
    "min_search(x_0, y_0, l, eps)\n",
    "\n",
    "# \\lambda = 0.5, (x_0, y_0) = (-2, -2)\n",
    "l = 0.5\n",
    "x_0, y_0 = (-2, -2)\n",
    "min_search(x_0, y_0, l, eps)\n",
    "\n",
    "# \\lambda = 0.15, (x_0, y_0) = (-0.9, -0.9)\n",
    "l = 0.15\n",
    "x_0, y_0 = (-0.9, -0.9)\n",
    "min_search(x_0, y_0, l, eps)\n",
    "\n",
    "# \\lambda = 0.15, (x_0, y_0) = (0.8, 0.8)\n",
    "l = 0.15\n",
    "x_0, y_0 = (0.8, 0.8)\n",
    "min_search(x_0, y_0, l, eps)"
   ]
  },
  {
   "cell_type": "markdown",
   "metadata": {},
   "source": [
    "# Task 2\n",
    "Solve the following system:  \n",
    "$\\begin{cases} \\sin x + \\sin y = 1 \\\\ x^2 + 4y^2 = 4 \\end{cases}$\n",
    "\n",
    "We will find an approximate solution using the gradient descent:  \n",
    "\n",
    "$\\begin{cases} \\sin x + \\sin y = 1 \\\\ x^2 + 4y^2 = 4 \\end{cases} \\Leftrightarrow \n",
    "\\begin{cases} \\sin x + \\sin y - 1 = 0 \\\\ x^2 + 4y^2 - 4 = 0 \\end{cases} \\Leftrightarrow\n",
    "(\\sin x + \\sin y - 1)^2 + (x^2 + 4y^2 - 4)^2 = 0 \\Leftrightarrow \n",
    "(\\sin x + \\sin y - 1)^2 + (x^2 + 4y^2 - 4)^2 \\to \\min$"
   ]
  },
  {
   "cell_type": "markdown",
   "metadata": {},
   "source": [
    "The gradient of target function:\n",
    "$\\text{grad} \\space f = \\left(\\frac{\\partial f}{\\partial x}, \\frac{\\partial f}{\\partial y}   \\right) = \\left(4 x (-4 + x^2 + 4 y^2) + 2 \\cos x \\cdot (-1 + \\sin x + \\sin y), \\quad 16y(-4 + x^2 + 4 y^2) + 2 \\cos y \\cdot (-1 + \\sin x + \\sin y) \\right)$\n"
   ]
  },
  {
   "cell_type": "code",
   "execution_count": 4,
   "metadata": {},
   "outputs": [],
   "source": [
    "# df/dx(x, y)\n",
    "def ddx(x, y):\n",
    "    return 4 * x * (-4 + x * x + 4 * y * y) + 2 * cos(x) * (-1 + sin(x) + sin(y))\n",
    "\n",
    "# df/dy(x, y)\n",
    "def ddy(x, y):\n",
    "    return 16 * y * (-4 + x * x + 4 * y * y) + 2 * cos(y) * (-1 + sin(x) + sin(y))"
   ]
  },
  {
   "cell_type": "markdown",
   "metadata": {},
   "source": [
    "As can be seen on functions' plot sketches there are two point of intersection. Let's find them using gradient descent: "
   ]
  },
  {
   "cell_type": "code",
   "execution_count": 5,
   "metadata": {},
   "outputs": [
    {
     "name": "stdout",
     "output_type": "stream",
     "text": [
      "Minimum point: (0.16044, 0.99678)\n",
      "Minimum point: (1.99223, 0.08809)\n"
     ]
    }
   ],
   "source": [
    "eps = 0.001\n",
    "# \\lambda = 0.0005, (x_0, y_0) = (0, 0)\n",
    "l = 0.0005\n",
    "x_0, y_0 = (0, 0)\n",
    "answer_1 = min_search(x_0, y_0, l, eps)\n",
    "\n",
    "# \\lambda = 0.0005, (x_0, y_0) = (2, 2)\n",
    "l = 0.0005\n",
    "x_0, y_0 = (2, 2)\n",
    "answer_2 = min_search(x_0, y_0, l, eps)"
   ]
  },
  {
   "cell_type": "markdown",
   "metadata": {},
   "source": [
    "Make sure that these points are solutions for the system. Substitute them instead of $x$ and $y$:"
   ]
  },
  {
   "cell_type": "code",
   "execution_count": 6,
   "metadata": {},
   "outputs": [
    {
     "name": "stdout",
     "output_type": "stream",
     "text": [
      "(0.16044, 0.99678) is correct solution\n",
      "(1.99223, 0.08809) is correct solution\n"
     ]
    }
   ],
   "source": [
    "for answer in [answer_1, answer_2]:\n",
    "    if abs(sin(answer_1[0]) + sin(answer_1[1]) - 1) < eps and abs(answer_1[0] ** 2 + 4 * answer_1[1] ** 2 - 4) < eps:\n",
    "        print(\"(\", answer[0], \", \", answer[1], \") is correct solution\", sep=\"\")"
   ]
  }
 ],
 "metadata": {
  "kernelspec": {
   "display_name": "Python 3",
   "language": "python",
   "name": "python3"
  },
  "language_info": {
   "codemirror_mode": {
    "name": "ipython",
    "version": 3
   },
   "file_extension": ".py",
   "mimetype": "text/x-python",
   "name": "python",
   "nbconvert_exporter": "python",
   "pygments_lexer": "ipython3",
   "version": "3.6.4"
  }
 },
 "nbformat": 4,
 "nbformat_minor": 2
}
